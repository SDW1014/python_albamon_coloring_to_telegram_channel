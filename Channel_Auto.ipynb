{
  "cells": [
    {
      "cell_type": "markdown",
      "metadata": {
        "id": "view-in-github",
        "colab_type": "text"
      },
      "source": [
        "<a href=\"https://colab.research.google.com/github/SDW1014/python_albamon_coloring_to_telegram_channel/blob/main/Channel_Auto.ipynb\" target=\"_parent\"><img src=\"https://colab.research.google.com/assets/colab-badge.svg\" alt=\"Open In Colab\"/></a>"
      ]
    },
    {
      "cell_type": "code",
      "execution_count": null,
      "metadata": {
        "colab": {
          "background_save": true,
          "base_uri": "https://localhost:8080/"
        },
        "id": "XajYvQBvFZbT",
        "outputId": "e45d696d-b97e-46dd-91d3-73b90370b2d4"
      },
      "outputs": [
        {
          "data": {
            "application/javascript": [
              "(async (port, path, width, height, cache, element) => {\n",
              "    if (!google.colab.kernel.accessAllowed && !cache) {\n",
              "      return;\n",
              "    }\n",
              "    element.appendChild(document.createTextNode(''));\n",
              "    const url = await google.colab.kernel.proxyPort(port, {cache});\n",
              "    const iframe = document.createElement('iframe');\n",
              "    iframe.src = new URL(path, url).toString();\n",
              "    iframe.height = height;\n",
              "    iframe.width = width;\n",
              "    iframe.style.border = 0;\n",
              "    iframe.allow = [\n",
              "        'accelerometer',\n",
              "        'autoplay',\n",
              "        'camera',\n",
              "        'clipboard-read',\n",
              "        'clipboard-write',\n",
              "        'gyroscope',\n",
              "        'magnetometer',\n",
              "        'microphone',\n",
              "        'serial',\n",
              "        'usb',\n",
              "        'xr-spatial-tracking',\n",
              "    ].join('; ');\n",
              "    element.appendChild(iframe);\n",
              "  })(8080, \"/\", \"100%\", \"400\", false, window.element)"
            ],
            "text/plain": [
              "<IPython.core.display.Javascript object>"
            ]
          },
          "metadata": {},
          "output_type": "display_data"
        }
      ],
      "source": [
        "from google.colab import output\n",
        "\n",
        "# 8080 포트를 사용하여 자동 재연결 설정\n",
        "output.serve_kernel_port_as_iframe(port=8080)\n",
        "\n",
        "import telebot\n",
        "import requests\n",
        "from bs4 import BeautifulSoup\n",
        "import time\n",
        "import sqlite3\n",
        "\n",
        "def split_message(message):\n",
        "    message_chunks = []\n",
        "    while len(message) > 0:\n",
        "        if len(message) <= 4000:\n",
        "            message_chunks.append(message)\n",
        "            break\n",
        "        else:\n",
        "            chunk = message[:4000]\n",
        "            last_space = chunk.rfind(' ')\n",
        "            if last_space == -1:\n",
        "                last_space = 4000\n",
        "            message_chunks.append(chunk[:last_space])\n",
        "            message = message[last_space+1:]\n",
        "    return message_chunks\n",
        "\n",
        "\n",
        "\n",
        "# 검색 결과를 저장할 리스트\n",
        "search_results = []\n",
        "\n",
        "# 봇의 토큰을 입력해주세요.\n",
        "bot = telebot.TeleBot('')\n",
        "\n",
        "@bot.message_handler(commands=['search_alba'])\n",
        "def search_alba(message):\n",
        "    bot.reply_to(message, \"검색 시작\")\n",
        "    session = requests.Session()\n",
        "\n",
        "    conn = sqlite3.connect('job_postings.db')\n",
        "    c = conn.cursor()\n",
        "\n",
        "    c.execute('CREATE TABLE IF NOT EXISTS job_postings (title TEXT, company TEXT, url TEXT)')\n",
        "\n",
        "    c.execute('SELECT title, company, url FROM job_postings')\n",
        "    job_postings = c.fetchall()\n",
        "\n",
        "    url = \"https://www.albamon.com/jobs/telecommuting?page={}\"\n",
        "    page = 1\n",
        "\n",
        "    print(\"데이터 베이스 여기까지임\")\n",
        "\n",
        "    while True:\n",
        "        response = session.get(url.format(page))\n",
        "        soup = BeautifulSoup(response.content, 'lxml')\n",
        "\n",
        "        jobs = soup.find_all('div', class_='list-item-recruit__contents--article')\n",
        "\n",
        "        if not jobs:\n",
        "            print(\"No more pages available\")\n",
        "            break\n",
        "\n",
        "        new_postings = []\n",
        "        for job in jobs:\n",
        "            title_element = job.find('span', class_='typography-paid')\n",
        "            company_element = job.find('span', class_='list-item-recruit__company-name')\n",
        "            job_url = job.find('a', class_='list-item-recruit__link')['href']\n",
        "            title = title_element.text.strip() if title_element else ''\n",
        "            company = company_element.text.strip() if company_element else '광고'\n",
        "            posting = (title, company, job_url)\n",
        "\n",
        "            if posting not in job_postings:\n",
        "                new_postings.append(posting)\n",
        "\n",
        "        if new_postings:\n",
        "            new_postings.reverse()\n",
        "            c.executemany('INSERT INTO job_postings (title, company, url) VALUES (?, ?, ?)', new_postings)\n",
        "            conn.commit()\n",
        "\n",
        "            job_postings = new_postings + job_postings\n",
        "\n",
        "        time.sleep(1)\n",
        "        page += 1\n",
        "    bot.reply_to(message, \"검색 완료\")\n",
        "\n",
        "@bot.message_handler(commands=['select_alba'])\n",
        "def select_alba(message):\n",
        "    \n",
        "\n",
        "    bot.reply_to(message, \"검색어를 입력해주세요.\")\n",
        "\n",
        "    @bot.message_handler(func=lambda message: True)\n",
        "    def get_search_keywords(message):\n",
        "        search_keywords = message.text.strip()\n",
        "\n",
        "        bot.reply_to(message, \"제외어를 입력해주세요.\")\n",
        "\n",
        "        @bot.message_handler(func=lambda message: True)\n",
        "        def get_exclude_keywords(message):\n",
        "            exclude_keywords = message.text.strip()\n",
        "            conn = sqlite3.connect('job_postings.db')\n",
        "            c = conn.cursor()\n",
        "            # Convert the input strings into lists of individual keywords\n",
        "            search_list = [keyword.strip() for keyword in search_keywords.split(',')]\n",
        "            exclude_list = [keyword.strip() for keyword in exclude_keywords.split(',')]\n",
        "\n",
        "            # Build the SQL query using the search and exclude keywords\n",
        "            query = \"SELECT * FROM job_postings WHERE \"\n",
        "            for i, keyword in enumerate(search_list):\n",
        "                if i > 0:\n",
        "                    query += \"AND \"\n",
        "                query += f\"title LIKE '%{keyword}%' \"\n",
        "            for keyword in exclude_list:\n",
        "                query += f\"AND title NOT LIKE '%{keyword}%' \"\n",
        "\n",
        "            # Search the job_postings table for the input keywords\n",
        "            c.execute(query)\n",
        "            results = c.fetchall()\n",
        "\n",
        "            if len(results) == 0:\n",
        "                bot.reply_to(message, '검색 결과가 없습니다.')\n",
        "            else:\n",
        "                bot.reply_to(message, f'\"{search_keywords}\"에 대한 검색 결과입니다.\\n')\n",
        "                for result in results:\n",
        "                    # Create message for each search result\n",
        "                    result_message = f'Title: {result[0]}\\nCompany: {result[1]}\\nURL: {result[2]}\\n\\n'\n",
        "                    # Split message into chunks of 4000 characters\n",
        "                    result_chunks = split_message(result_message)\n",
        "                    # Send each chunk as a separate message\n",
        "                    for chunk in result_chunks:\n",
        "                        bot.send_message(message.chat.id, chunk)\n",
        "                        # Wait for 1 second before sending the next message\n",
        "                        time.sleep(0.3)              \n",
        "                #bot.reply_to(message, f'\"{search_keywords}\"에 대한 검색 결과입니다.\\n')\n",
        "                #for result in results:\n",
        "                    # Create message for each search result\n",
        "                    #result_message = f'Title: {result[0]}\\nCompany: {result[1]}\\nURL: {result[2]}\\n\\n'\n",
        "                    # Split message into chunks of 4000 characters\n",
        "                    #result_chunks = split_message(result_message)\n",
        "                    # Send each chunk as a separate message\n",
        "                    #for chunk in result_chunks:\n",
        "                        #bot.send_message(message.chat.id, chunk)\n",
        "\n",
        "            # Close the database connection\n",
        "            conn.close()\n",
        "\n",
        "        bot.register_next_step_handler(message, get_exclude_keywords)\n",
        "\n",
        "    bot.register_next_step_handler(message, get_search_keywords)\n",
        "bot.polling()"
      ]
    },
    {
      "cell_type": "code",
      "execution_count": null,
      "metadata": {
        "colab": {
          "base_uri": "https://localhost:8080/"
        },
        "id": "fYb13hMXFvdr",
        "outputId": "46e5915a-d654-4a17-8880-8af04344fe2e"
      },
      "outputs": [
        {
          "name": "stdout",
          "output_type": "stream",
          "text": [
            "Looking in indexes: https://pypi.org/simple, https://us-python.pkg.dev/colab-wheels/public/simple/\n",
            "Collecting telebot\n",
            "  Downloading telebot-0.0.5-py3-none-any.whl (4.8 kB)\n",
            "Collecting pyTelegramBotAPI\n",
            "  Downloading pyTelegramBotAPI-4.10.0.tar.gz (222 kB)\n",
            "\u001b[2K     \u001b[90m━━━━━━━━━━━━━━━━━━━━━━━━━━━━━━━━━━━━━━━\u001b[0m \u001b[32m222.9/222.9 KB\u001b[0m \u001b[31m5.7 MB/s\u001b[0m eta \u001b[36m0:00:00\u001b[0m\n",
            "\u001b[?25h  Preparing metadata (setup.py) ... \u001b[?25l\u001b[?25hdone\n",
            "Requirement already satisfied: requests in /usr/local/lib/python3.9/dist-packages (from telebot) (2.25.1)\n",
            "Requirement already satisfied: chardet<5,>=3.0.2 in /usr/local/lib/python3.9/dist-packages (from requests->telebot) (4.0.0)\n",
            "Requirement already satisfied: certifi>=2017.4.17 in /usr/local/lib/python3.9/dist-packages (from requests->telebot) (2022.12.7)\n",
            "Requirement already satisfied: idna<3,>=2.5 in /usr/local/lib/python3.9/dist-packages (from requests->telebot) (2.10)\n",
            "Requirement already satisfied: urllib3<1.27,>=1.21.1 in /usr/local/lib/python3.9/dist-packages (from requests->telebot) (1.26.15)\n",
            "Building wheels for collected packages: pyTelegramBotAPI\n",
            "  Building wheel for pyTelegramBotAPI (setup.py) ... \u001b[?25l\u001b[?25hdone\n",
            "  Created wheel for pyTelegramBotAPI: filename=pyTelegramBotAPI-4.10.0-py3-none-any.whl size=205421 sha256=d5a359baefc1d32b064119514257a732185de416fa214278596ce4c315a84bbf\n",
            "  Stored in directory: /root/.cache/pip/wheels/ef/ba/4b/187be68f61aa7818b28d8b21200d130fd35ba36f002efcc262\n",
            "Successfully built pyTelegramBotAPI\n",
            "Installing collected packages: pyTelegramBotAPI, telebot\n",
            "Successfully installed pyTelegramBotAPI-4.10.0 telebot-0.0.5\n"
          ]
        }
      ],
      "source": [
        "pip install telebot"
      ]
    },
    {
      "cell_type": "code",
      "execution_count": null,
      "metadata": {
        "id": "T77jmpXSGDWj"
      },
      "outputs": [],
      "source": [
        "pip uninstall telegram"
      ]
    },
    {
      "cell_type": "code",
      "execution_count": null,
      "metadata": {
        "id": "p6T83BP8GWAR"
      },
      "outputs": [],
      "source": [
        "!pip install python-telegram-bot"
      ]
    },
    {
      "cell_type": "code",
      "execution_count": null,
      "metadata": {
        "id": "z4CKWqp7IFvg"
      },
      "outputs": [],
      "source": [
        "!pip install python-telegram-bot --upgrade"
      ]
    }
  ],
  "metadata": {
    "colab": {
      "provenance": [],
      "authorship_tag": "ABX9TyM4n+wlsAZsFh6/3X7tNuFe",
      "include_colab_link": true
    },
    "kernelspec": {
      "display_name": "Python 3",
      "name": "python3"
    },
    "language_info": {
      "name": "python"
    }
  },
  "nbformat": 4,
  "nbformat_minor": 0
}